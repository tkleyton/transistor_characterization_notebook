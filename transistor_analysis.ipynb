{
 "cells": [
  {
   "cell_type": "markdown",
   "metadata": {},
   "source": [
    "# Electrical characterization of a CuPc OFET as an exercise for data analysis"
   ]
  },
  {
   "cell_type": "markdown",
   "metadata": {},
   "source": [
    "## Introduction\n",
    "The characterization of a transistor is an important step in the transistor fabrication cycle. These analysis can get repetitive as there are many devices being fabricated at once following different parameters, and while repetitive, the data analysis can be extensive.\n",
    "This notebook illustrates an example step-by-step I followed on my MSc. research on organic field-effect transistors, but now applying my accumulated knowledge on Jupyter notebooks and machine learning in Python (data transformation and fitting with regressor objects).\n",
    "***"
   ]
  },
  {
   "cell_type": "markdown",
   "metadata": {},
   "source": [
    "## The data"
   ]
  },
  {
   "cell_type": "markdown",
   "metadata": {},
   "source": [
    "The data were obtained through a custom software operating the measuring device. The data generated are written in .txt2 files to be further studied."
   ]
  },
  {
   "cell_type": "code",
   "execution_count": 1,
   "metadata": {},
   "outputs": [],
   "source": [
    "import pandas as pd\n",
    "import numpy as np"
   ]
  },
  {
   "cell_type": "code",
   "execution_count": 7,
   "metadata": {},
   "outputs": [],
   "source": [
    "import matplotlib.pyplot as plt"
   ]
  },
  {
   "cell_type": "markdown",
   "metadata": {},
   "source": [
    "### Find and import the dataset"
   ]
  },
  {
   "cell_type": "code",
   "execution_count": 2,
   "metadata": {},
   "outputs": [],
   "source": [
    "import os\n",
    "filenames = []\n",
    "data_dir = './data'\n",
    "for root, folders, files in os.walk(data_dir):\n",
    "    for file in files:\n",
    "         if '.txt2' in file: filenames.append(file)"
   ]
  },
  {
   "cell_type": "markdown",
   "metadata": {},
   "source": [
    "Using just the first .txt2 file it finds, let's check the first few lines of the datafile to know how we'll import it."
   ]
  },
  {
   "cell_type": "code",
   "execution_count": 3,
   "metadata": {},
   "outputs": [
    {
     "name": "stdout",
     "output_type": "stream",
     "text": [
      "Cycle #\tV\tIDS_Oupt01__-rolled--1.0000\tIGS_Oupt02__-rolled--1.0000\ttime_Oupt03__-rolled--1.0000\t\n",
      "\n",
      "0.000000E+0\t5.000000E-1\t-3.413970E-11\t4.112560E-11\n",
      "\n",
      "0.000000E+0\t3.750000E-1\t-3.040360E-11\t3.707287E-11\n",
      "\n",
      "0.000000E+0\t2.500000E-1\t-3.421663E-11\t3.280340E-11\n",
      "\n",
      "0.000000E+0\t1.250000E-1\t-5.119703E-11\t2.682847E-11\n",
      "\n"
     ]
    }
   ],
   "source": [
    "datafile = data_dir+'/'+filenames[0]\n",
    "with open(datafile) as myfile:\n",
    "    head = [next(myfile) for x in range(5)]\n",
    "print('\\n'.join(head))"
   ]
  },
  {
   "cell_type": "markdown",
   "metadata": {},
   "source": [
    "It's a .csv file with '\\t' as separators. The important data are located in the columns 1 through 3."
   ]
  },
  {
   "cell_type": "code",
   "execution_count": 4,
   "metadata": {},
   "outputs": [],
   "source": [
    "dataset = pd.read_csv(datafile, delimiter='\\t')\n",
    "dataset = dataset.iloc[:, 1:4]"
   ]
  },
  {
   "cell_type": "code",
   "execution_count": 5,
   "metadata": {},
   "outputs": [],
   "source": [
    "dataset.columns = ('V' ,'IDS', 'IGS')"
   ]
  },
  {
   "cell_type": "code",
   "execution_count": 6,
   "metadata": {},
   "outputs": [
    {
     "data": {
      "text/html": [
       "<div>\n",
       "<style scoped>\n",
       "    .dataframe tbody tr th:only-of-type {\n",
       "        vertical-align: middle;\n",
       "    }\n",
       "\n",
       "    .dataframe tbody tr th {\n",
       "        vertical-align: top;\n",
       "    }\n",
       "\n",
       "    .dataframe thead th {\n",
       "        text-align: right;\n",
       "    }\n",
       "</style>\n",
       "<table border=\"1\" class=\"dataframe\">\n",
       "  <thead>\n",
       "    <tr style=\"text-align: right;\">\n",
       "      <th></th>\n",
       "      <th>V</th>\n",
       "      <th>IDS</th>\n",
       "      <th>IGS</th>\n",
       "    </tr>\n",
       "  </thead>\n",
       "  <tbody>\n",
       "    <tr>\n",
       "      <th>0</th>\n",
       "      <td>0.500</td>\n",
       "      <td>-3.413970e-11</td>\n",
       "      <td>4.112560e-11</td>\n",
       "    </tr>\n",
       "    <tr>\n",
       "      <th>1</th>\n",
       "      <td>0.375</td>\n",
       "      <td>-3.040360e-11</td>\n",
       "      <td>3.707287e-11</td>\n",
       "    </tr>\n",
       "    <tr>\n",
       "      <th>2</th>\n",
       "      <td>0.250</td>\n",
       "      <td>-3.421663e-11</td>\n",
       "      <td>3.280340e-11</td>\n",
       "    </tr>\n",
       "  </tbody>\n",
       "</table>\n",
       "</div>"
      ],
      "text/plain": [
       "       V           IDS           IGS\n",
       "0  0.500 -3.413970e-11  4.112560e-11\n",
       "1  0.375 -3.040360e-11  3.707287e-11\n",
       "2  0.250 -3.421663e-11  3.280340e-11"
      ]
     },
     "execution_count": 6,
     "metadata": {},
     "output_type": "execute_result"
    }
   ],
   "source": [
    "dataset.head(3)"
   ]
  },
  {
   "cell_type": "markdown",
   "metadata": {},
   "source": [
    "### Checking the data visually"
   ]
  },
  {
   "cell_type": "markdown",
   "metadata": {},
   "source": [
    "Usually, transistor transconductance curves are shown in log-scale, since the main object of study is the behavior of the device during it's switching phase."
   ]
  },
  {
   "cell_type": "code",
   "execution_count": 8,
   "metadata": {},
   "outputs": [
    {
     "data": {
      "image/png": "[encoded data removed]",
      "text/plain": [
       "<Figure size 432x288 with 1 Axes>"
      ]
     },
     "metadata": {
      "needs_background": "light"
     },
     "output_type": "display_data"
    }
   ],
   "source": [
    "X = dataset['V']\n",
    "y = dataset['IDS']\n",
    "ax1 = plt.subplot(111)\n",
    "ax1.plot(X,np.abs(y))\n",
    "ax1.set_yscale('log')\n",
    "ax1.set_xlabel('V')\n",
    "ax1.set_ylabel('IDS')\n",
    "ax1.relim()\n",
    "ax1.autoscale_view()\n",
    "plt.show()"
   ]
  },
  {
   "cell_type": "markdown",
   "metadata": {},
   "source": [
    "At first glance, we notice that the measured transistor produced a p-type transistor curve, as it *switches on* at negative applied-voltage and *switches off* close to no-voltage applied."
   ]
  },
  {
   "cell_type": "markdown",
   "metadata": {},
   "source": [
    "There are 3 cycles of measurements. The last cycle is the most important, so let's use only that. Also, the forward sweep is our object of study, since we are analyzing the charge carriers behavior during the switching phase."
   ]
  },
  {
   "cell_type": "code",
   "execution_count": 9,
   "metadata": {},
   "outputs": [
    {
     "data": {
      "text/plain": [
       "41.0"
      ]
     },
     "execution_count": 9,
     "metadata": {},
     "output_type": "execute_result"
    }
   ],
   "source": [
    "dataset.shape[0]/3"
   ]
  },
  {
   "cell_type": "markdown",
   "metadata": {},
   "source": [
    "There are 41 data points per cycle. Let's take the last cycle only and then we take the forward sweep, assuming a cycle has only one measurement at the peak-voltage."
   ]
  },
  {
   "cell_type": "code",
   "execution_count": 10,
   "metadata": {},
   "outputs": [
    {
     "data": {
      "text/plain": [
       "(21, 3)"
      ]
     },
     "execution_count": 10,
     "metadata": {},
     "output_type": "execute_result"
    }
   ],
   "source": [
    "dataset = dataset.iloc[-41:-20, :]\n",
    "dataset.shape"
   ]
  },
  {
   "cell_type": "code",
   "execution_count": 11,
   "metadata": {},
   "outputs": [
    {
     "data": {
      "image/png": "[encoded data removed]",
      "text/plain": [
       "<Figure size 432x288 with 1 Axes>"
      ]
     },
     "metadata": {
      "needs_background": "light"
     },
     "output_type": "display_data"
    }
   ],
   "source": [
    "X = dataset['V']\n",
    "y = dataset['IDS']\n",
    "ax2 = plt.subplot(111)\n",
    "ax2.plot(X,np.abs(y))\n",
    "ax2.set_yscale('log')\n",
    "ax2.set_xlabel('V')\n",
    "ax2.set_ylabel('IDS')\n",
    "ax2.relim()\n",
    "ax2.autoscale_view()\n",
    "plt.show()"
   ]
  },
  {
   "attachments": {},
   "cell_type": "markdown",
   "metadata": {},
   "source": [
    "That's a transfer curve of a transistor (or transconductance curve).\n",
    "<div>\n",
    "<img src=\"img/curves.png\" width=\"400\"/>\n",
    "</div>\n",
    "\n",
    "We see that our device's performance is significantly poorer than the example image, as our on-off ratio is around 3 orders of magnitude, and the example is 6.\n",
    "\n",
    "To further analyze the charge carrier mobility of the semiconductor, we'll have to analyze the sqrt plot of IDS."
   ]
  },
  {
   "cell_type": "code",
   "execution_count": 12,
   "metadata": {},
   "outputs": [
    {
     "data": {
      "image/png": "[encoded data removed]",
      "text/plain": [
       "<Figure size 432x288 with 1 Axes>"
      ]
     },
     "metadata": {
      "needs_background": "light"
     },
     "output_type": "display_data"
    }
   ],
   "source": [
    "X = dataset['V']\n",
    "y = np.sqrt(np.abs(dataset['IDS']))\n",
    "ax3 = plt.subplot(111)\n",
    "ax3.plot(X,y)\n",
    "ax3.set_xlabel('V')\n",
    "ax3.set_ylabel(r'$\\sqrt{IDS}$')\n",
    "ax3.relim()\n",
    "ax3.autoscale_view()\n",
    "ax3.ticklabel_format(axis='y', style='sci', scilimits=(0,0))\n",
    "plt.show()"
   ]
  },
  {
   "cell_type": "markdown",
   "metadata": {},
   "source": [
    "What we know:\n",
    "- The square root of IDS should be a linear function of V from a certain threshold;\n",
    "- The slope is important for the characterization of the transistor;\n",
    "- The obtained plot curves slightly at the end.\n",
    "\n",
    "We'll assume the data is linear in the interval V = (-1.5, -1.0) and apply a **linear regression method**."
   ]
  },
  {
   "cell_type": "code",
   "execution_count": 13,
   "metadata": {},
   "outputs": [],
   "source": [
    "lin_lims = [-1.5, -1.0]"
   ]
  },
  {
   "cell_type": "markdown",
   "metadata": {},
   "source": [
    "We'll start by filtering the dataset for rows where the V is in the interval."
   ]
  },
  {
   "cell_type": "code",
   "execution_count": 14,
   "metadata": {
    "scrolled": true
   },
   "outputs": [],
   "source": [
    "dataset = dataset.loc[(dataset['V'] >= lin_lims[0]) & (dataset['V'] <= lin_lims[1])]"
   ]
  },
  {
   "cell_type": "code",
   "execution_count": 15,
   "metadata": {},
   "outputs": [],
   "source": [
    "X, y = dataset['V'], np.sqrt(np.abs(dataset['IDS']))"
   ]
  },
  {
   "cell_type": "markdown",
   "metadata": {},
   "source": [
    "Since the regression algorithms take `column vectors` as input, we have to `reshape` the data."
   ]
  },
  {
   "cell_type": "code",
   "execution_count": 16,
   "metadata": {},
   "outputs": [],
   "source": [
    "X = X.values.reshape(-1,1)"
   ]
  },
  {
   "cell_type": "code",
   "execution_count": 17,
   "metadata": {},
   "outputs": [
    {
     "data": {
      "text/plain": [
       "LinearRegression(copy_X=True, fit_intercept=True, n_jobs=None, normalize=False)"
      ]
     },
     "execution_count": 17,
     "metadata": {},
     "output_type": "execute_result"
    }
   ],
   "source": [
    "from sklearn.linear_model import LinearRegression\n",
    "regressor = LinearRegression()\n",
    "regressor.fit(X,y)"
   ]
  },
  {
   "cell_type": "code",
   "execution_count": 18,
   "metadata": {
    "scrolled": false
   },
   "outputs": [
    {
     "data": {
      "image/png": "[encoded data removed]",
      "text/plain": [
       "<Figure size 432x288 with 1 Axes>"
      ]
     },
     "metadata": {
      "needs_background": "light"
     },
     "output_type": "display_data"
    }
   ],
   "source": [
    "ax4 = plt.subplot(111)\n",
    "ax4.scatter(X,y)\n",
    "ax4.plot(X, np.abs(regressor.predict(X)))\n",
    "ax4.set_xlabel('V')\n",
    "ax4.set_ylabel(r'$\\sqrt{IDS}$')\n",
    "ax4.relim()\n",
    "ax4.autoscale_view()\n",
    "ax4.ticklabel_format(axis='y', style='sci', scilimits=(0,0))\n",
    "plt.show()"
   ]
  },
  {
   "cell_type": "markdown",
   "metadata": {},
   "source": [
    "Then, the slope to be used to determine the transistor's charge carrier mobility is"
   ]
  },
  {
   "cell_type": "code",
   "execution_count": 19,
   "metadata": {},
   "outputs": [
    {
     "data": {
      "text/plain": [
       "7.678322152706743e-05"
      ]
     },
     "execution_count": 19,
     "metadata": {},
     "output_type": "execute_result"
    }
   ],
   "source": [
    "a = abs(regressor.coef_[0])\n",
    "a"
   ]
  },
  {
   "cell_type": "markdown",
   "metadata": {},
   "source": [
    "Further information not available through electrical measurements are required to [calculate the charge carrier mobility](https://en.wikipedia.org/wiki/Electron_mobility#Using_saturation_mode)."
   ]
  }
 ],
 "metadata": {
  "kernelspec": {
   "display_name": "Python 3",
   "language": "python",
   "name": "python3"
  },
  "language_info": {
   "codemirror_mode": {
    "name": "ipython",
    "version": 3
   },
   "file_extension": ".py",
   "mimetype": "text/x-python",
   "name": "python",
   "nbconvert_exporter": "python",
   "pygments_lexer": "ipython3",
   "version": "3.7.3"
  },
  "varInspector": {
   "cols": {
    "lenName": 16,
    "lenType": 16,
    "lenVar": 40
   },
   "kernels_config": {
    "python": {
     "delete_cmd_postfix": "",
     "delete_cmd_prefix": "del ",
     "library": "var_list.py",
     "varRefreshCmd": "print(var_dic_list())"
    },
    "r": {
     "delete_cmd_postfix": ") ",
     "delete_cmd_prefix": "rm(",
     "library": "var_list.r",
     "varRefreshCmd": "cat(var_dic_list()) "
    }
   },
   "position": {
    "height": "401.85px",
    "left": "1267px",
    "right": "20px",
    "top": "120px",
    "width": "313px"
   },
   "types_to_exclude": [
    "module",
    "function",
    "builtin_function_or_method",
    "instance",
    "_Feature"
   ],
   "window_display": false
  }
 },
 "nbformat": 4,
 "nbformat_minor": 2
}
